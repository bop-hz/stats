{
 "cells": [
  {
   "cell_type": "markdown",
   "metadata": {},
   "source": [
    "## Variables and terminology\n",
    "- Regression: predict quatitative outputs\n",
    "- Classification: predict qualitative outputs\n",
    "### Input variable type\n",
    "- qualitative input\n",
    "- quantitiative input\n",
    "- ordered categorical "
   ]
  },
  {
   "cell_type": "markdown",
   "metadata": {},
   "source": [
    "## Linear models and Least Squares\n",
    "### Least Square\n",
    "- Model: $\\hat{Y} = X^T\\hat{\\beta}$\n",
    "- $\\hat{\\beta}$ is determined as $\\hat{\\beta}=(X^TX)^{-1}X^Ty$\n",
    "Model effectiveness:\n",
    "- Scenario 1: Training data are Gaussian\n",
    "- Scenario 2: Tightly clusted Gaussian. *LS is usually not optimal*"
   ]
  },
  {
   "cell_type": "markdown",
   "metadata": {},
   "source": [
    "### Nearest-Neighbor Methods\n",
    "The k-nearest neightbor fit for $\\hat{Y}$ is defined as $\\hat{Y}(x)=1/k \\sum_{x_i \\in N_k(x)}\n",
    "y_i$"
   ]
  },
  {
   "cell_type": "code",
   "execution_count": 1,
   "metadata": {},
   "outputs": [],
   "source": [
    "# Example figure 2.1\n",
    "import numpy as np\n",
    "import matplotlib.pyplot as plt\n",
    "from scipy import linalg\n",
    "NN = 10\n",
    "np.random.seed(0)\n",
    "mean_blue = np.array([1,0])\n",
    "#print(mean)\n",
    "col_blue = np.eye(2)/1\n",
    "blue_out = np.random.multivariate_normal(mean_blue,col_blue,10)\n",
    "mean_orange = np.array([0,1])\n",
    "orange_out = np.random.multivariate_normal(mean_orange,col_blue,10)\n",
    "sel_index = np.random.randint(10,size=100)\n",
    "blue_sample = np.empty([1,2])\n",
    "#print(blue_sample)\n",
    "col_sample = np.eye(2)/5\n",
    "for  ii in sel_index:\n",
    "    mean_sample = blue_out[ii,:]\n",
    "    temp = np.random.multivariate_normal(mean_sample,col_sample,1)\n",
    "    blue_sample = np.concatenate((blue_sample,temp),axis=0)\n",
    "blue_sample = blue_sample[1:101,:]\n",
    "orange_sample = np.empty([1,2])\n",
    "for  ii in sel_index:\n",
    "    mean_sample = orange_out[ii,:]\n",
    "    temp_sample = np.random.multivariate_normal(mean_sample,col_sample,1)\n",
    "    orange_sample = np.concatenate((orange_sample,temp_sample),axis=0)\n",
    "orange_sample = orange_sample[1:101,:]\n",
    "#print(sel_index)\n",
    "plt.scatter(blue_sample[:,0],blue_sample[:,1],marker='+')\n",
    "plt.scatter(orange_sample[:,0],orange_sample[:,1],marker='*')\n",
    "plt.show()"
   ]
  },
  {
   "cell_type": "code",
   "execution_count": 1,
   "metadata": {},
   "outputs": [
    {
     "ename": "NameError",
     "evalue": "name 'np' is not defined",
     "output_type": "error",
     "traceback": [
      "\u001b[0;31m---------------------------------------------------------------------------\u001b[0m\n\u001b[0;31mNameError\u001b[0m                                 Traceback (most recent call last)",
      "In  \u001b[0;34m[1]\u001b[0m:\nLine \u001b[0;34m2\u001b[0m:     qq = np.ones((\u001b[34m100\u001b[39;49;00m,\u001b[34m1\u001b[39;49;00m))\n",
      "\u001b[0;31mNameError\u001b[0m: name 'np' is not defined\n\u001b[0;31m---------------------------------------------------------------------------\u001b[0m"
     ]
    }
   ],
   "source": [
    "# print(blue_sample)\n",
    "qq = np.ones((100,1))\n",
    "zz = np.zeros((100,1))\n",
    "blue_sample0 = np.hstack((blue_sample,qq))\n",
    "orange_sample0 = np.hstack((orange_sample,qq))\n",
    "X_data = np.vstack((blue_sample0,orange_sample0))\n",
    "Y_data = np.vstack((qq,zz))\n",
    "beta = linalg.inv(X_data.T @ X_data) @ (X_data.T)@Y_data\n",
    "print(beta)\n",
    "#print(blue_sample)   "
   ]
  },
  {
   "cell_type": "code",
   "execution_count": 2,
   "metadata": {},
   "outputs": [
    {
     "ename": "NameError",
     "evalue": "name 'np' is not defined",
     "output_type": "error",
     "traceback": [
      "\u001b[0;31m---------------------------------------------------------------------------\u001b[0m\n\u001b[0;31mNameError\u001b[0m                                 Traceback (most recent call last)",
      "In  \u001b[0;34m[2]\u001b[0m:\nLine \u001b[0;34m1\u001b[0m:     x = np.linspace(-\u001b[34m4\u001b[39;49;00m,\u001b[34m4\u001b[39;49;00m,\u001b[34m100\u001b[39;49;00m)\n",
      "\u001b[0;31mNameError\u001b[0m: name 'np' is not defined\n\u001b[0;31m---------------------------------------------------------------------------\u001b[0m"
     ]
    }
   ],
   "source": [
    "x = np.linspace(-4,4,100)\n",
    "y = beta[0]*x/(-beta[1])+(beta[2]-0.5)/(-beta[1])\n",
    "plt.scatter(blue_sample[:,0],blue_sample[:,1],marker='+')\n",
    "plt.scatter(orange_sample[:,0],orange_sample[:,1],marker='*')\n",
    "plt.plot(x,y,'k')\n",
    "plt.show()"
   ]
  },
  {
   "cell_type": "code",
   "execution_count": null,
   "metadata": {},
   "outputs": [],
   "source": [
    "from sklearn import neighbors\n",
    "n_neighbors = 20\n",
    "h = 0.02\n",
    "X_train = np.vstack((blue_sample,orange_sample))\n",
    "Y_train = np.vstack((qq,zz))\n",
    "Y_train = Y_train.ravel()\n",
    "#print(Y_train)\n",
    "clf = neighbors.KNeighborsClassifier(n_neighbors)\n",
    "clf.fit(X_train,Y_train)\n",
    "x_min, x_max = X_train[:, 0].min() - 1, X_train[:, 0].max() + 1\n",
    "y_min, y_max = X_train[:, 1].min() - 1, X_train[:, 1].max() + 1\n",
    "xx, yy = np.meshgrid(np.arange(x_min, x_max, h), np.arange(y_min, y_max, h))                       \n",
    "Z = clf.predict(np.c_[xx.ravel(), yy.ravel()])\n",
    "Z = Z.reshape(xx.shape)\n",
    "plt.contourf(xx, yy, Z, alpha=0.4)\n",
    "plt.scatter(blue_sample[:,0],blue_sample[:,1],marker='+')\n",
    "plt.scatter(orange_sample[:,0],orange_sample[:,1],marker='*')\n",
    "plt.show()"
   ]
  },
  {
   "cell_type": "code",
   "execution_count": null,
   "metadata": {},
   "outputs": [],
   "source": []
  }
 ],
 "metadata": {
  "kernelspec": {
   "display_name": "Python 3",
   "language": "python",
   "name": "python3"
  },
  "language_info": {
   "codemirror_mode": {
    "name": "ipython",
    "version": 3
   },
   "file_extension": ".py",
   "mimetype": "text/x-python",
   "name": "python",
   "nbconvert_exporter": "python",
   "pygments_lexer": "ipython3",
   "version": "3.8.5"
  }
 },
 "nbformat": 4,
 "nbformat_minor": 4
}
